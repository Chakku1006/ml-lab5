{
 "cells": [
  {
   "cell_type": "code",
   "execution_count": 1,
   "id": "390f22c4",
   "metadata": {},
   "outputs": [
    {
     "name": "stdout",
     "output_type": "stream",
     "text": [
      "AND gate:\n",
      "Input: [0 0], Target: 0, Prediction: 1\n",
      "Input: [0 1], Target: 0, Prediction: 1\n",
      "Input: [1 0], Target: 0, Prediction: 1\n",
      "Input: [1 1], Target: 1, Prediction: 1\n"
     ]
    }
   ],
   "source": [
    "import numpy as np\n",
    "\n",
    " \n",
    "\n",
    "# Step activation function\n",
    "def step_function(x):\n",
    "    return 1 if x >= 0 else 0\n",
    "\n",
    " \n",
    "\n",
    "# Perceptron class\n",
    "class Perceptron:\n",
    "    def __init__(self, input_size, learning_rate):\n",
    "        self.weights = np.array([10, 0.2, -0.75])  # Initial weights\n",
    "        self.learning_rate = learning_rate\n",
    "\n",
    " \n",
    "\n",
    "    def predict(self, inputs):\n",
    "        # Add bias term\n",
    "        inputs = np.insert(inputs, 0, 1)\n",
    "        # Calculate weighted sum\n",
    "        weighted_sum = np.dot(self.weights, inputs)\n",
    "        # Apply activation function\n",
    "        return step_function(weighted_sum)\n",
    "\n",
    " \n",
    "\n",
    "    def train(self, inputs, target):\n",
    "        prediction = self.predict(inputs)\n",
    "        error = target - prediction\n",
    "        # Update weights\n",
    "        self.weights += self.learning_rate * error * np.insert(inputs, 0, 1)\n",
    "\n",
    " \n",
    "\n",
    "# AND gate inputs and targets\n",
    "inputs = np.array([[0, 0], [0, 1], [1, 0], [1, 1]])\n",
    "targets = np.array([0, 0, 0, 1])\n",
    "\n",
    " \n",
    "\n",
    "# Create a perceptron with the provided initial weights and learning rate\n",
    "perceptron = Perceptron(input_size=2, learning_rate=0.05)\n",
    "\n",
    " \n",
    "\n",
    "# Train the perceptron\n",
    "for i in range(len(inputs)):\n",
    "    perceptron.train(inputs[i], targets[i])\n",
    "\n",
    " \n",
    "\n",
    "# Test the perceptron\n",
    "print(\"AND gate:\")\n",
    "for i in range(len(inputs)):\n",
    "    prediction = perceptron.predict(inputs[i])\n",
    "    print(f\"Input: {inputs[i]}, Target: {targets[i]}, Prediction: {prediction}\")\n",
    "\n"
   ]
  },
  {
   "cell_type": "code",
   "execution_count": null,
   "id": "da86b17e",
   "metadata": {},
   "outputs": [],
   "source": []
  }
 ],
 "metadata": {
  "kernelspec": {
   "display_name": "Python 3 (ipykernel)",
   "language": "python",
   "name": "python3"
  },
  "language_info": {
   "codemirror_mode": {
    "name": "ipython",
    "version": 3
   },
   "file_extension": ".py",
   "mimetype": "text/x-python",
   "name": "python",
   "nbconvert_exporter": "python",
   "pygments_lexer": "ipython3",
   "version": "3.11.4"
  }
 },
 "nbformat": 4,
 "nbformat_minor": 5
}
